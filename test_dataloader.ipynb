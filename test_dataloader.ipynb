{
 "cells": [
  {
   "cell_type": "code",
   "execution_count": 6,
   "metadata": {},
   "outputs": [],
   "source": [
    "from torch.utils.data import DataLoader\n",
    "import pandas as pd\n",
    "import numpy as np\n",
    "import torch\n",
    "from tqdm import tqdm\n",
    "from utils.dataloader import SceneDataset, scene_collate"
   ]
  },
  {
   "cell_type": "code",
   "execution_count": 2,
   "metadata": {},
   "outputs": [],
   "source": [
    "train_data_path = \"data/eth_ucy/pickles/ynet_processed/zara2_train.pkl\"\n",
    "val_data_path = \"data/eth_ucy/pickles/ynet_processed/zara2_test.pkl\"\n",
    "homo_mat_path = \"data/eth_ucy/homo_mat/\"\n",
    "\n",
    "homo_mat = {}\n",
    "for scene in [\n",
    "    \"eth\",\n",
    "    \"hotel\",\n",
    "    \"students001\",\n",
    "    \"students003\",\n",
    "    \"uni_examples\",\n",
    "    \"zara1\",\n",
    "    \"zara2\",\n",
    "    \"zara3\",\n",
    "]:\n",
    "    homo_mat[scene] = torch.Tensor(\n",
    "        np.loadtxt(homo_mat_path + f\"{scene}_H.txt\")\n",
    "    )\n",
    "seg_mask = True"
   ]
  },
  {
   "cell_type": "code",
   "execution_count": 13,
   "metadata": {},
   "outputs": [],
   "source": [
    "resize = 1\n",
    "obs_len = 8\n",
    "pred_len = 12\n",
    "total_len = 20\n",
    "batch_size = 8\n",
    "\n",
    "df_train = pd.read_pickle(train_data_path)\n",
    "df_val = pd.read_pickle(val_data_path)"
   ]
  },
  {
   "cell_type": "code",
   "execution_count": 7,
   "metadata": {},
   "outputs": [
    {
     "name": "stderr",
     "output_type": "stream",
     "text": [
      "Prepare Dataset: 100%|██████████| 7/7 [00:00<00:00, 80.18it/s]\n"
     ]
    }
   ],
   "source": [
    "train_dataset = SceneDataset(\n",
    "    df_train, resize=resize, total_len=total_len\n",
    ")\n",
    "train_loader = DataLoader(\n",
    "    train_dataset,\n",
    "    batch_size=1,\n",
    "    collate_fn=scene_collate,\n",
    ")"
   ]
  },
  {
   "cell_type": "code",
   "execution_count": 15,
   "metadata": {},
   "outputs": [
    {
     "name": "stdout",
     "output_type": "stream",
     "text": [
      "torch.Size([8, 8, 2])\n",
      "torch.Size([8, 8, 2])\n",
      "torch.Size([8, 8, 2])\n",
      "torch.Size([8, 8, 2])\n",
      "torch.Size([8, 8, 2])\n",
      "torch.Size([8, 8, 2])\n",
      "torch.Size([8, 8, 2])\n",
      "torch.Size([8, 8, 2])\n",
      "torch.Size([8, 8, 2])\n",
      "torch.Size([8, 8, 2])\n",
      "torch.Size([8, 8, 2])\n",
      "torch.Size([8, 8, 2])\n",
      "torch.Size([8, 8, 2])\n",
      "torch.Size([8, 8, 2])\n",
      "torch.Size([8, 8, 2])\n",
      "torch.Size([8, 8, 2])\n",
      "torch.Size([8, 8, 2])\n",
      "torch.Size([8, 8, 2])\n",
      "torch.Size([8, 8, 2])\n",
      "torch.Size([8, 8, 2])\n",
      "torch.Size([8, 8, 2])\n",
      "torch.Size([8, 8, 2])\n",
      "torch.Size([5, 8, 2])\n"
     ]
    }
   ],
   "source": [
    "for batch, (trajectory, meta, scene) in enumerate(train_loader):\n",
    "    for i in range(0, len(trajectory), batch_size):\n",
    "        observed = trajectory[i : i + batch_size, :obs_len, :]       # (batch_size, obs_len, 2)\n",
    "        gt_future = trajectory[i : i + batch_size, obs_len:]\n",
    "        print(observed.shape)\n",
    "    break"
   ]
  }
 ],
 "metadata": {
  "kernelspec": {
   "display_name": "flow",
   "language": "python",
   "name": "python3"
  },
  "language_info": {
   "codemirror_mode": {
    "name": "ipython",
    "version": 3
   },
   "file_extension": ".py",
   "mimetype": "text/x-python",
   "name": "python",
   "nbconvert_exporter": "python",
   "pygments_lexer": "ipython3",
   "version": "3.10.11"
  },
  "orig_nbformat": 4,
  "vscode": {
   "interpreter": {
    "hash": "320627b0477d9169e73bf221e696ed95a68df164513b9ec899d2a9635061cac8"
   }
  }
 },
 "nbformat": 4,
 "nbformat_minor": 2
}
