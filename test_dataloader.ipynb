{
 "cells": [
  {
   "cell_type": "code",
   "execution_count": 1,
   "metadata": {},
   "outputs": [],
   "source": [
    "from torch.utils.data import DataLoader\n",
    "import pandas as pd\n",
    "import numpy as np\n",
    "import torch\n",
    "from tqdm import tqdm\n",
    "import cv2\n",
    "import os\n",
    "# from utils.dataloader import SceneDataset, scene_collate\n",
    "from torch.utils.data import Dataset\n",
    "import matplotlib.pyplot as plt"
   ]
  },
  {
   "cell_type": "code",
   "execution_count": 2,
   "metadata": {},
   "outputs": [],
   "source": [
    "train_data_path = \"data/eth_ucy/pickles/ynet_processed/zara2_train.pkl\"\n",
    "val_data_path = \"data/eth_ucy/pickles/ynet_processed/zara2_test.pkl\"\n",
    "homo_mat_path = \"data/eth_ucy/homo_mat/\"\n",
    "\n",
    "homo_mat = {}\n",
    "for scene in [\n",
    "    \"eth\",\n",
    "    \"hotel\",\n",
    "    \"students001\",\n",
    "    \"students003\",\n",
    "    \"uni_examples\",\n",
    "    \"zara1\",\n",
    "    \"zara2\",\n",
    "    \"zara3\",\n",
    "]:\n",
    "    homo_mat[scene] = torch.Tensor(\n",
    "        np.loadtxt(homo_mat_path + f\"{scene}_H.txt\")\n",
    "    )\n",
    "seg_mask = True"
   ]
  },
  {
   "cell_type": "code",
   "execution_count": 3,
   "metadata": {},
   "outputs": [],
   "source": [
    "resize = 1\n",
    "obs_len = 8\n",
    "pred_len = 12\n",
    "total_len = 20\n",
    "batch_size = 8\n",
    "\n",
    "df_train = pd.read_pickle(train_data_path)\n",
    "df_val = pd.read_pickle(val_data_path)"
   ]
  },
  {
   "cell_type": "code",
   "execution_count": 4,
   "metadata": {},
   "outputs": [
    {
     "name": "stderr",
     "output_type": "stream",
     "text": [
      "Prepare Dataset: 100%|██████████| 7/7 [00:00<00:00, 80.11it/s]\n"
     ]
    }
   ],
   "source": [
    "class SceneDataset(Dataset):\n",
    "\tdef __init__(self, data, resize, total_len):\n",
    "\t\t\"\"\" Dataset that contains the trajectories of one scene as one element in the list. It doesn't contain the\n",
    "\t\timages to save memory.\n",
    "\t\t:params data (pd.DataFrame): Contains all trajectories\n",
    "\t\t:params resize (float): image resize factor, to also resize the trajectories to fit image scale\n",
    "\t\t:params total_len (int): total time steps, i.e. obs_len + pred_len\n",
    "\t\t\"\"\"\n",
    "\n",
    "\t\tself.trajectories, self.meta, self.scene_list = self.split_trajectories_by_scene(data, total_len)\n",
    "\t\tself.trajectories = self.trajectories * resize\n",
    "\n",
    "\tdef __len__(self):\n",
    "\t\treturn len(self.trajectories)\n",
    "\n",
    "\tdef __getitem__(self, idx):\n",
    "\t\ttrajectory = self.trajectories[idx]\n",
    "\t\tmeta = self.meta[idx]\n",
    "\t\tscene = self.scene_list[idx]\n",
    "\t\treturn trajectory, meta, scene\n",
    "\n",
    "\tdef split_trajectories_by_scene(self, data, total_len):\n",
    "\t\ttrajectories = []\n",
    "\t\tmeta = []\n",
    "\t\tscene_list = []\n",
    "\t\tfor meta_id, meta_df in tqdm(data.groupby('sceneId', as_index=False), desc='Prepare Dataset'):\n",
    "\t\t\ttrajectories.append(meta_df[['x', 'y']].to_numpy().astype('float32').reshape(-1, total_len, 2))\n",
    "\t\t\tmeta.append(meta_df)\n",
    "\t\t\tscene_list.append(meta_df.iloc()[0:1].sceneId.item())\n",
    "\t\treturn np.array(trajectories, dtype=object), meta, scene_list\n",
    "\n",
    "def scene_collate(batch):\n",
    "\ttrajectories = []\n",
    "\tmeta = []\n",
    "\tscene = []\n",
    "\tfor _batch in batch:\n",
    "\t\ttrajectories.append(_batch[0])\n",
    "\t\tmeta.append(_batch[1])\n",
    "\t\tscene.append(_batch[2])\n",
    "\treturn torch.Tensor(trajectories).squeeze(0), meta, scene[0]\n",
    "\n",
    "train_dataset = SceneDataset(\n",
    "    df_train, resize=resize, total_len=total_len\n",
    ")\n",
    "train_loader = DataLoader(\n",
    "    train_dataset,\n",
    "    batch_size=1,\n",
    "    collate_fn=scene_collate,\n",
    ")"
   ]
  },
  {
   "cell_type": "code",
   "execution_count": 5,
   "metadata": {},
   "outputs": [
    {
     "name": "stdout",
     "output_type": "stream",
     "text": [
      "torch.Size([8, 8, 2])\n",
      "torch.Size([8, 8, 2])\n",
      "torch.Size([8, 8, 2])\n",
      "torch.Size([8, 8, 2])\n",
      "torch.Size([8, 8, 2])\n",
      "torch.Size([8, 8, 2])\n",
      "torch.Size([8, 8, 2])\n",
      "torch.Size([8, 8, 2])\n",
      "torch.Size([8, 8, 2])\n",
      "torch.Size([8, 8, 2])\n",
      "torch.Size([8, 8, 2])\n",
      "torch.Size([8, 8, 2])\n",
      "torch.Size([8, 8, 2])\n",
      "torch.Size([8, 8, 2])\n",
      "torch.Size([8, 8, 2])\n",
      "torch.Size([8, 8, 2])\n",
      "torch.Size([8, 8, 2])\n",
      "torch.Size([8, 8, 2])\n",
      "torch.Size([8, 8, 2])\n",
      "torch.Size([8, 8, 2])\n",
      "torch.Size([8, 8, 2])\n",
      "torch.Size([8, 8, 2])\n",
      "torch.Size([5, 8, 2])\n"
     ]
    },
    {
     "name": "stderr",
     "output_type": "stream",
     "text": [
      "/tmp/ipykernel_45241/2064198467.py:40: UserWarning: Creating a tensor from a list of numpy.ndarrays is extremely slow. Please consider converting the list to a single numpy.ndarray with numpy.array() before converting to a tensor. (Triggered internally at  ../torch/csrc/utils/tensor_new.cpp:204.)\n",
      "  return torch.Tensor(trajectories).squeeze(0), meta, scene[0]\n"
     ]
    }
   ],
   "source": [
    "for batch, (trajectory, meta, scene) in enumerate(train_loader):\n",
    "    for i in range(0, len(trajectory), batch_size):\n",
    "        observed = trajectory[i : i + batch_size, :obs_len, :]       # (batch_size, obs_len, 2)\n",
    "        gt_future = trajectory[i : i + batch_size, obs_len:]\n",
    "        \n",
    "        print(observed.shape)\n",
    "        \n",
    "    break"
   ]
  },
  {
   "cell_type": "code",
   "execution_count": 10,
   "metadata": {},
   "outputs": [
    {
     "name": "stdout",
     "output_type": "stream",
     "text": [
      "(480, 640, 3)\n"
     ]
    },
    {
     "data": {
      "text/plain": [
       "<matplotlib.image.AxesImage at 0x7f1255babf10>"
      ]
     },
     "execution_count": 10,
     "metadata": {},
     "output_type": "execute_result"
    },
    {
     "data": {
      "image/png": "[encoded data removed]",
      "text/plain": [
       "<Figure size 640x480 with 1 Axes>"
      ]
     },
     "metadata": {},
     "output_type": "display_data"
    }
   ],
   "source": [
    "def create_images_dict(image_path, image_file='oracle.png'):\n",
    "    images = {}\n",
    "    if image_file == 'oracle.png':\n",
    "        for scene in [\n",
    "                \"eth\",\n",
    "                \"hotel\",\n",
    "                \"students001\",\n",
    "                \"students003\",\n",
    "                \"uni_examples\",\n",
    "                \"zara1\",\n",
    "                \"zara2\",\n",
    "                \"zara3\",\n",
    "            ]:\n",
    "            im = cv2.imread(os.path.join(image_path, scene, image_file), 0)\n",
    "            images[scene] = im\n",
    "    # else:\n",
    "    #     im = cv2.imread(os.path.join(image_path, scene, image_file))\n",
    "    return images\n",
    "\n",
    "img_path = \"data/eth_ucy/semantic_map\"\n",
    "test_images = create_images_dict(img_path)\n",
    "# test_images['eth']\n",
    "\n",
    "def semantic2rgb(semantic_image):\n",
    "    # semantic_image = tensor2array(semantic_image)\n",
    "    semantic_image = np.expand_dims(semantic_image, -1).repeat(3, axis=-1)\n",
    "    print(semantic_image.shape)\n",
    "    semantic_image[semantic_image == 0] = 0\n",
    "    semantic_image[semantic_image == 1] = 255\n",
    "    return semantic_image\n",
    "\n",
    "test_img = semantic2rgb(test_images['eth'])\n",
    "plt.imshow(test_img)"
   ]
  },
  {
   "cell_type": "code",
   "execution_count": null,
   "metadata": {},
   "outputs": [],
   "source": []
  },
  {
   "cell_type": "code",
   "execution_count": null,
   "metadata": {},
   "outputs": [],
   "source": [
    "import segmentation_models_pytorch as smp\n",
    "def preprocess_image_for_segmentation(\n",
    "    images, encoder=\"resnet101\", encoder_weights=\"imagenet\", seg_mask=False, classes=6\n",
    "):\n",
    "    \"\"\"Preprocess image for pretrained semantic segmentation, input is dictionary containing images\n",
    "    In case input is segmentation map, then it will create one-hot-encoding from discrete values\n",
    "    \"\"\"\n",
    "\n",
    "    preprocessing_fn = smp.encoders.get_preprocessing_fn(encoder, encoder_weights)\n",
    "\n",
    "    for key, im in images.items():\n",
    "        if seg_mask:\n",
    "            im = [(im == v) for v in range(classes)]\n",
    "            im = np.stack(im, axis=-1)  # .astype('int16')\n",
    "        else:\n",
    "            im = preprocessing_fn(im)\n",
    "        im = im.transpose(2, 0, 1).astype(\"float32\")\n",
    "        im = torch.Tensor(im)\n",
    "        images[key] = im\n",
    "        \n",
    "preprocess_image_for_segmentation(test_images, seg_mask=True, classes=2)"
   ]
  },
  {
   "cell_type": "code",
   "execution_count": null,
   "metadata": {},
   "outputs": [],
   "source": []
  },
  {
   "cell_type": "code",
   "execution_count": null,
   "metadata": {},
   "outputs": [
    {
     "data": {
      "text/plain": [
       "<matplotlib.image.AxesImage at 0x7f2fb244eb00>"
      ]
     },
     "execution_count": 29,
     "metadata": {},
     "output_type": "execute_result"
    },
    {
     "data": {
      "image/png": "[encoded data removed]",
      "text/plain": [
       "<Figure size 552x480 with 1 Axes>"
      ]
     },
     "metadata": {},
     "output_type": "display_data"
    }
   ],
   "source": [
    "plt.matshow(test_images['zara2'][1])"
   ]
  }
 ],
 "metadata": {
  "kernelspec": {
   "display_name": "flow",
   "language": "python",
   "name": "python3"
  },
  "language_info": {
   "codemirror_mode": {
    "name": "ipython",
    "version": 3
   },
   "file_extension": ".py",
   "mimetype": "text/x-python",
   "name": "python",
   "nbconvert_exporter": "python",
   "pygments_lexer": "ipython3",
   "version": "3.10.11"
  },
  "orig_nbformat": 4,
  "vscode": {
   "interpreter": {
    "hash": "320627b0477d9169e73bf221e696ed95a68df164513b9ec899d2a9635061cac8"
   }
  }
 },
 "nbformat": 4,
 "nbformat_minor": 2
}
